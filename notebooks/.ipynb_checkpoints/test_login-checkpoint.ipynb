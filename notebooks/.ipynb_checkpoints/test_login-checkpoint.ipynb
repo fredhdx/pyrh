{
 "cells": [
  {
   "cell_type": "code",
   "execution_count": 1,
   "metadata": {},
   "outputs": [],
   "source": [
    "%load_ext autoreload\n",
    "%autoreload 2\n",
    "import sys, os\n",
    "from pathlib import Path"
   ]
  },
  {
   "cell_type": "code",
   "execution_count": 2,
   "metadata": {},
   "outputs": [],
   "source": [
    "sys.path.append(str(Path(\"..\").resolve()))"
   ]
  },
  {
   "cell_type": "code",
   "execution_count": 14,
   "metadata": {},
   "outputs": [],
   "source": [
    "from pyrh import Robinhood\n",
    "import pandas as pd"
   ]
  },
  {
   "cell_type": "code",
   "execution_count": 4,
   "metadata": {},
   "outputs": [],
   "source": [
    "USERNAME = \"fredhdx@gmail.com\"\n",
    "PASSWORD = \"reey8PLEP_baim1cug\""
   ]
  },
  {
   "cell_type": "code",
   "execution_count": 5,
   "metadata": {},
   "outputs": [],
   "source": [
    "rh = Robinhood(username=USERNAME, password=PASSWORD)"
   ]
  },
  {
   "cell_type": "code",
   "execution_count": 6,
   "metadata": {},
   "outputs": [
    {
     "name": "stdout",
     "output_type": "stream",
     "text": [
      "Input mfa code:\n",
      "079641\n"
     ]
    }
   ],
   "source": [
    "rh.login()"
   ]
  },
  {
   "cell_type": "code",
   "execution_count": 7,
   "metadata": {},
   "outputs": [],
   "source": [
    "portfolio = rh.portfolio()"
   ]
  },
  {
   "cell_type": "code",
   "execution_count": null,
   "metadata": {},
   "outputs": [],
   "source": [
    "rh.session.get('https://api.robinhood.com/instruments/9722f34e-b765-410d-9d42-06d30b3ebe70/').json()"
   ]
  },
  {
   "cell_type": "code",
   "execution_count": 16,
   "metadata": {},
   "outputs": [
    {
     "name": "stdout",
     "output_type": "stream",
     "text": [
      "100 order fetched\n",
      "200 order fetched\n",
      "300 order fetched\n",
      "400 order fetched\n",
      "500 order fetched\n",
      "600 order fetched\n",
      "700 order fetched\n",
      "714 order fetched\n"
     ]
    }
   ],
   "source": [
    "keys, orders = rh.trade_history()"
   ]
  },
  {
   "cell_type": "code",
   "execution_count": 18,
   "metadata": {},
   "outputs": [],
   "source": [
    "df = pd.DataFrame(orders)\n",
    "df['adjusted_shares'] = df.apply(lambda x: -float(x['shares']) \n",
    "                                 if x['side']=='sell' else float(x['shares']), axis=1)"
   ]
  },
  {
   "cell_type": "code",
   "execution_count": 21,
   "metadata": {},
   "outputs": [
    {
     "name": "stdout",
     "output_type": "stream",
     "text": [
      "All states: ['filled' 'cancelled' 'failed']\n",
      "All sides: ['buy' 'sell']\n",
      "All symbols: ['TSM' 'MP' 'CRWD' 'FVRR' 'API' 'AAPL' 'LAC' 'OPEN' 'NET' 'NVDA' 'PDD'\n",
      " 'MTCH' 'ZM' 'FLGT' 'APPN' 'MASI' 'USO' 'AMC' 'ABNB' 'QCOM' 'ARKQ' 'ZNGA'\n",
      " 'GME' 'TCEHY' 'OKTA' 'BILI' 'T' 'BABA' 'TSLA' 'BA' 'AMZN' 'ADBE' 'NIO'\n",
      " 'ARKW' 'XOM' 'AMD' 'WMT' 'SQQQ' 'MSFT' 'IQ' 'CMCSA' 'UVXY' 'UWT' 'DWTIF'\n",
      " 'NUGT' 'UWTIF' 'UCO' 'FAS' 'NBGGY' 'RMTI' 'UNH' 'DUST' 'CSCO' 'BB' 'UGAZ'\n",
      " 'INTC' 'FIT' 'FREEF' 'ARIA' 'DIS' 'ORCL' 'COST' 'DGAZ' 'F' 'VXX' 'SOXS'\n",
      " 'SQBK' 'ETSY' 'DOW' 'VA' 'KRFT']\n"
     ]
    }
   ],
   "source": [
    "print(f\"All states: {df['state'].unique()}\")\n",
    "print(f\"All sides: {df['side'].unique()}\")\n",
    "print(f\"All symbols: {df['symbol'].unique()}\")https://api.robinhood.com/instruments/6a256052-716b-4521-a324-447dc13c0fe3/splits/"
   ]
  },
  {
   "cell_type": "code",
   "execution_count": 40,
   "metadata": {},
   "outputs": [
    {
     "name": "stdout",
     "output_type": "stream",
     "text": [
      "Ticker: SQQQ, shares: 400.0\n"
     ]
    }
   ],
   "source": [
    "# get taxable information\n",
    "df = df[df['state'] == 'filled']\n",
    "all_stocks = list(df['symbol'].unique())\n",
    "\n",
    "symbol='SQQQ'\n",
    "mystock = df[df['symbol'] == symbol]\n",
    "print(f\"Ticker: {symbol}, shares: {mystock['adjusted_shares'].sum()}\")"
   ]
  },
  {
   "cell_type": "code",
   "execution_count": 31,
   "metadata": {},
   "outputs": [
    {
     "data": {
      "text/plain": [
       "{'ask_price': '12.590000',\n",
       " 'ask_size': 3525,\n",
       " 'bid_price': '12.580000',\n",
       " 'bid_size': 92995,\n",
       " 'last_trade_price': '12.590000',\n",
       " 'last_extended_hours_trade_price': None,\n",
       " 'previous_close': '12.040000',\n",
       " 'adjusted_previous_close': '12.040000',\n",
       " 'previous_close_date': '2021-02-16',\n",
       " 'symbol': 'SQQQ',\n",
       " 'trading_halted': False,\n",
       " 'has_traded': True,\n",
       " 'last_trade_price_source': 'nls',\n",
       " 'updated_at': '2021-02-17T16:20:15Z',\n",
       " 'instrument': 'https://api.robinhood.com/instruments/6a256052-716b-4521-a324-447dc13c0fe3/',\n",
       " 'instrument_id': '6a256052-716b-4521-a324-447dc13c0fe3'}"
      ]
     },
     "execution_count": 31,
     "metadata": {},
     "output_type": "execute_result"
    }
   ],
   "source": [
    "rh.quote_data(\"SQQQ\")"
   ]
  },
  {
   "cell_type": "code",
   "execution_count": 47,
   "metadata": {},
   "outputs": [],
   "source": [
    "positions = rh.securities_owned()"
   ]
  },
  {
   "cell_type": "code",
   "execution_count": null,
   "metadata": {},
   "outputs": [],
   "source": [
    "positions['results'][0]"
   ]
  },
  {
   "cell_type": "code",
   "execution_count": null,
   "metadata": {},
   "outputs": [],
   "source": [
    "rh.logout()"
   ]
  },
  {
   "cell_type": "markdown",
   "metadata": {},
   "source": [
    "# Stock research"
   ]
  },
  {
   "cell_type": "code",
   "execution_count": 54,
   "metadata": {},
   "outputs": [],
   "source": [
    "import shelve\n",
    "from pprint import pprint "
   ]
  },
  {
   "cell_type": "code",
   "execution_count": 33,
   "metadata": {},
   "outputs": [],
   "source": [
    "db = shelve.open('instruments.db')"
   ]
  },
  {
   "cell_type": "code",
   "execution_count": 66,
   "metadata": {},
   "outputs": [
    {
     "name": "stdout",
     "output_type": "stream",
     "text": [
      "{'adjusted_previous_close': '133.190000',\n",
      " 'ask_price': '129.830000',\n",
      " 'ask_size': 301,\n",
      " 'bid_price': '129.820000',\n",
      " 'bid_size': 342,\n",
      " 'has_traded': True,\n",
      " 'instrument': 'https://api.robinhood.com/instruments/450dfc6d-5510-4d40-abfb-f633b7d9be3e/',\n",
      " 'instrument_id': '450dfc6d-5510-4d40-abfb-f633b7d9be3e',\n",
      " 'last_extended_hours_trade_price': None,\n",
      " 'last_trade_price': '129.820000',\n",
      " 'last_trade_price_source': 'nls',\n",
      " 'previous_close': '133.190000',\n",
      " 'previous_close_date': '2021-02-16',\n",
      " 'symbol': 'AAPL',\n",
      " 'trading_halted': False,\n",
      " 'updated_at': '2021-02-17T16:36:46Z'}\n"
     ]
    }
   ],
   "source": [
    "info = rh.quote_data(\"AAPL\")\n",
    "pprint(info)\n",
    "instrument_id = info['instrument_id']"
   ]
  },
  {
   "cell_type": "code",
   "execution_count": 67,
   "metadata": {},
   "outputs": [
    {
     "name": "stdout",
     "output_type": "stream",
     "text": [
      "{'bloomberg_unique': 'EQ0010169500001000',\n",
      " 'country': 'US',\n",
      " 'day_trade_ratio': '0.2500',\n",
      " 'default_collar_fraction': '0.05',\n",
      " 'fractional_tradability': 'tradable',\n",
      " 'fundamentals': 'https://api.robinhood.com/fundamentals/AAPL/',\n",
      " 'id': '450dfc6d-5510-4d40-abfb-f633b7d9be3e',\n",
      " 'ipo_access_cob_deadline': None,\n",
      " 'ipo_access_status': None,\n",
      " 'ipo_allocated_price': None,\n",
      " 'ipo_customers_received': None,\n",
      " 'ipo_customers_requested': None,\n",
      " 'ipo_date': None,\n",
      " 'ipo_s1_url': None,\n",
      " 'list_date': '1990-01-02',\n",
      " 'maintenance_ratio': '0.2500',\n",
      " 'margin_initial_ratio': '0.5000',\n",
      " 'market': 'https://api.robinhood.com/markets/XNAS/',\n",
      " 'min_tick_size': None,\n",
      " 'name': 'Apple Inc. Common Stock',\n",
      " 'quote': 'https://api.robinhood.com/quotes/AAPL/',\n",
      " 'rhs_tradability': 'tradable',\n",
      " 'simple_name': 'Apple',\n",
      " 'splits': 'https://api.robinhood.com/instruments/450dfc6d-5510-4d40-abfb-f633b7d9be3e/splits/',\n",
      " 'state': 'active',\n",
      " 'symbol': 'AAPL',\n",
      " 'tradability': 'tradable',\n",
      " 'tradable_chain_id': '7dd906e5-7d4b-4161-a3fe-2c3b62038482',\n",
      " 'tradeable': True,\n",
      " 'type': 'stock',\n",
      " 'url': 'https://api.robinhood.com/instruments/450dfc6d-5510-4d40-abfb-f633b7d9be3e/'}\n"
     ]
    }
   ],
   "source": [
    "db_info = db[f'https://api.robinhood.com/instruments/{instrument_id}/']\n",
    "pprint(db_info)"
   ]
  },
  {
   "cell_type": "code",
   "execution_count": 68,
   "metadata": {},
   "outputs": [
    {
     "data": {
      "text/plain": [
       "{'next': None,\n",
       " 'previous': None,\n",
       " 'results': [{'url': 'https://api.robinhood.com/instruments/450dfc6d-5510-4d40-abfb-f633b7d9be3e/splits/93657cb7-478b-42b0-a23c-9a64042cb694/',\n",
       "   'instrument': 'https://api.robinhood.com/instruments/450dfc6d-5510-4d40-abfb-f633b7d9be3e/',\n",
       "   'execution_date': '2014-06-09',\n",
       "   'multiplier': '7.00000000',\n",
       "   'divisor': '1.00000000'}]}"
      ]
     },
     "execution_count": 68,
     "metadata": {},
     "output_type": "execute_result"
    }
   ],
   "source": [
    "rh.session.get(db_info['splits']).json()"
   ]
  },
  {
   "cell_type": "code",
   "execution_count": null,
   "metadata": {},
   "outputs": [],
   "source": []
  },
  {
   "cell_type": "code",
   "execution_count": null,
   "metadata": {},
   "outputs": [],
   "source": []
  }
 ],
 "metadata": {
  "kernelspec": {
   "display_name": "Python 3",
   "language": "python",
   "name": "python3"
  },
  "language_info": {
   "codemirror_mode": {
    "name": "ipython",
    "version": 3
   },
   "file_extension": ".py",
   "mimetype": "text/x-python",
   "name": "python",
   "nbconvert_exporter": "python",
   "pygments_lexer": "ipython3",
   "version": "3.8.5"
  }
 },
 "nbformat": 4,
 "nbformat_minor": 4
}
